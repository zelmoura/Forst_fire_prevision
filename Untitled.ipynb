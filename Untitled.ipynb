{
 "cells": [
  {
   "cell_type": "code",
   "execution_count": 7,
   "id": "e5ff51fe",
   "metadata": {},
   "outputs": [
    {
     "ename": "TypeError",
     "evalue": "LocalProxy.__init__() got an unexpected keyword argument 'unbound_message'",
     "output_type": "error",
     "traceback": [
      "\u001b[1;31m---------------------------------------------------------------------------\u001b[0m",
      "\u001b[1;31mTypeError\u001b[0m                                 Traceback (most recent call last)",
      "Cell \u001b[1;32mIn[7], line 1\u001b[0m\n\u001b[1;32m----> 1\u001b[0m \u001b[38;5;28;01mfrom\u001b[39;00m \u001b[38;5;21;01mflask\u001b[39;00m \u001b[38;5;28;01mimport\u001b[39;00m Flask,request, url_for, redirect, render_template\n\u001b[0;32m      2\u001b[0m \u001b[38;5;28;01mimport\u001b[39;00m \u001b[38;5;21;01mpickle\u001b[39;00m\n\u001b[0;32m      3\u001b[0m \u001b[38;5;28;01mimport\u001b[39;00m \u001b[38;5;21;01mnumpy\u001b[39;00m \u001b[38;5;28;01mas\u001b[39;00m \u001b[38;5;21;01mnp\u001b[39;00m\n",
      "File \u001b[1;32m~\\anaconda3\\lib\\site-packages\\flask\\__init__.py:4\u001b[0m\n\u001b[0;32m      1\u001b[0m \u001b[38;5;28;01mfrom\u001b[39;00m \u001b[38;5;21;01mmarkupsafe\u001b[39;00m \u001b[38;5;28;01mimport\u001b[39;00m escape\n\u001b[0;32m      2\u001b[0m \u001b[38;5;28;01mfrom\u001b[39;00m \u001b[38;5;21;01mmarkupsafe\u001b[39;00m \u001b[38;5;28;01mimport\u001b[39;00m Markup\n\u001b[1;32m----> 4\u001b[0m \u001b[38;5;28;01mfrom\u001b[39;00m \u001b[38;5;21;01m.\u001b[39;00m \u001b[38;5;28;01mimport\u001b[39;00m json \u001b[38;5;28;01mas\u001b[39;00m json\n\u001b[0;32m      5\u001b[0m \u001b[38;5;28;01mfrom\u001b[39;00m \u001b[38;5;21;01m.\u001b[39;00m\u001b[38;5;21;01mapp\u001b[39;00m \u001b[38;5;28;01mimport\u001b[39;00m Flask \u001b[38;5;28;01mas\u001b[39;00m Flask\n\u001b[0;32m      6\u001b[0m \u001b[38;5;28;01mfrom\u001b[39;00m \u001b[38;5;21;01m.\u001b[39;00m\u001b[38;5;21;01mapp\u001b[39;00m \u001b[38;5;28;01mimport\u001b[39;00m Request \u001b[38;5;28;01mas\u001b[39;00m Request\n",
      "File \u001b[1;32m~\\anaconda3\\lib\\site-packages\\flask\\json\\__init__.py:8\u001b[0m\n\u001b[0;32m      4\u001b[0m \u001b[38;5;28;01mimport\u001b[39;00m \u001b[38;5;21;01mtyping\u001b[39;00m \u001b[38;5;28;01mas\u001b[39;00m \u001b[38;5;21;01mt\u001b[39;00m\n\u001b[0;32m      6\u001b[0m \u001b[38;5;28;01mfrom\u001b[39;00m \u001b[38;5;21;01mjinja2\u001b[39;00m\u001b[38;5;21;01m.\u001b[39;00m\u001b[38;5;21;01mutils\u001b[39;00m \u001b[38;5;28;01mimport\u001b[39;00m htmlsafe_json_dumps \u001b[38;5;28;01mas\u001b[39;00m _jinja_htmlsafe_dumps\n\u001b[1;32m----> 8\u001b[0m \u001b[38;5;28;01mfrom\u001b[39;00m \u001b[38;5;21;01m.\u001b[39;00m\u001b[38;5;21;01m.\u001b[39;00m\u001b[38;5;21;01mglobals\u001b[39;00m \u001b[38;5;28;01mimport\u001b[39;00m current_app\n\u001b[0;32m      9\u001b[0m \u001b[38;5;28;01mfrom\u001b[39;00m \u001b[38;5;21;01m.\u001b[39;00m\u001b[38;5;21;01mprovider\u001b[39;00m \u001b[38;5;28;01mimport\u001b[39;00m _default\n\u001b[0;32m     11\u001b[0m \u001b[38;5;28;01mif\u001b[39;00m t\u001b[38;5;241m.\u001b[39mTYPE_CHECKING:  \u001b[38;5;66;03m# pragma: no cover\u001b[39;00m\n",
      "File \u001b[1;32m~\\anaconda3\\lib\\site-packages\\flask\\globals.py:56\u001b[0m\n\u001b[0;32m     54\u001b[0m _cv_app: ContextVar[\u001b[38;5;124m\"\u001b[39m\u001b[38;5;124mAppContext\u001b[39m\u001b[38;5;124m\"\u001b[39m] \u001b[38;5;241m=\u001b[39m ContextVar(\u001b[38;5;124m\"\u001b[39m\u001b[38;5;124mflask.app_ctx\u001b[39m\u001b[38;5;124m\"\u001b[39m)\n\u001b[0;32m     55\u001b[0m __app_ctx_stack \u001b[38;5;241m=\u001b[39m _FakeStack(\u001b[38;5;124m\"\u001b[39m\u001b[38;5;124mapp\u001b[39m\u001b[38;5;124m\"\u001b[39m, _cv_app)\n\u001b[1;32m---> 56\u001b[0m app_ctx: \u001b[38;5;124m\"\u001b[39m\u001b[38;5;124mAppContext\u001b[39m\u001b[38;5;124m\"\u001b[39m \u001b[38;5;241m=\u001b[39m \u001b[43mLocalProxy\u001b[49m\u001b[43m(\u001b[49m\u001b[43m  \u001b[49m\u001b[38;5;66;43;03m# type: ignore[assignment]\u001b[39;49;00m\n\u001b[0;32m     57\u001b[0m \u001b[43m    \u001b[49m\u001b[43m_cv_app\u001b[49m\u001b[43m,\u001b[49m\u001b[43m \u001b[49m\u001b[43munbound_message\u001b[49m\u001b[38;5;241;43m=\u001b[39;49m\u001b[43m_no_app_msg\u001b[49m\n\u001b[0;32m     58\u001b[0m \u001b[43m)\u001b[49m\n\u001b[0;32m     59\u001b[0m current_app: \u001b[38;5;124m\"\u001b[39m\u001b[38;5;124mFlask\u001b[39m\u001b[38;5;124m\"\u001b[39m \u001b[38;5;241m=\u001b[39m LocalProxy(  \u001b[38;5;66;03m# type: ignore[assignment]\u001b[39;00m\n\u001b[0;32m     60\u001b[0m     _cv_app, \u001b[38;5;124m\"\u001b[39m\u001b[38;5;124mapp\u001b[39m\u001b[38;5;124m\"\u001b[39m, unbound_message\u001b[38;5;241m=\u001b[39m_no_app_msg\n\u001b[0;32m     61\u001b[0m )\n\u001b[0;32m     62\u001b[0m g: \u001b[38;5;124m\"\u001b[39m\u001b[38;5;124m_AppCtxGlobals\u001b[39m\u001b[38;5;124m\"\u001b[39m \u001b[38;5;241m=\u001b[39m LocalProxy(  \u001b[38;5;66;03m# type: ignore[assignment]\u001b[39;00m\n\u001b[0;32m     63\u001b[0m     _cv_app, \u001b[38;5;124m\"\u001b[39m\u001b[38;5;124mg\u001b[39m\u001b[38;5;124m\"\u001b[39m, unbound_message\u001b[38;5;241m=\u001b[39m_no_app_msg\n\u001b[0;32m     64\u001b[0m )\n",
      "\u001b[1;31mTypeError\u001b[0m: LocalProxy.__init__() got an unexpected keyword argument 'unbound_message'"
     ]
    }
   ],
   "source": [
    "from flask import Flask,request, url_for, redirect, render_template\n",
    "import pickle\n",
    "import numpy as np\n",
    "\n",
    "app = Flask(__name__)\n",
    "\n",
    "model=pickle.load(open('model.pkl','rb'))\n",
    "\n",
    "\n",
    "@app.route('/')\n",
    "def hello_world():\n",
    "    return render_template(\"forest_fire.html\")\n",
    "\n",
    "\n",
    "@app.route('/predict',methods=['POST','GET'])\n",
    "def predict():\n",
    "    int_features=[int(x) for x in request.form.values()]\n",
    "    final=[np.array(int_features)]\n",
    "    print(int_features)\n",
    "    print(final)\n",
    "    prediction=model.predict_proba(final)\n",
    "    output='{0:.{1}f}'.format(prediction[0][1], 2)\n",
    "\n",
    "    if output>str(0.5):\n",
    "        return render_template('forest_fire.html',pred='Your Forest is in Danger.\\nProbability of fire occuring is {}'.format(output),bhai=\"kuch karna hain iska ab?\")\n",
    "    else:\n",
    "        return render_template('forest_fire.html',pred='Your Forest is safe.\\n Probability of fire occuring is {}'.format(output),bhai=\"Your Forest is Safe for now\")\n",
    "\n",
    "\n",
    "if __name__ == '__main__':\n",
    "    app.run(debug=True)\n"
   ]
  },
  {
   "cell_type": "code",
   "execution_count": 6,
   "id": "4204e9b8",
   "metadata": {},
   "outputs": [
    {
     "ename": "TypeError",
     "evalue": "LocalProxy.__init__() got an unexpected keyword argument 'unbound_message'",
     "output_type": "error",
     "traceback": [
      "\u001b[1;31m---------------------------------------------------------------------------\u001b[0m",
      "\u001b[1;31mTypeError\u001b[0m                                 Traceback (most recent call last)",
      "Cell \u001b[1;32mIn[6], line 1\u001b[0m\n\u001b[1;32m----> 1\u001b[0m \u001b[38;5;28;01mfrom\u001b[39;00m \u001b[38;5;21;01mflask\u001b[39;00m \u001b[38;5;28;01mimport\u001b[39;00m Flask, request, url_for, redirect, render_template\n\u001b[0;32m      2\u001b[0m \u001b[38;5;28;01mimport\u001b[39;00m \u001b[38;5;21;01mpickle\u001b[39;00m\n\u001b[0;32m      3\u001b[0m \u001b[38;5;28;01mimport\u001b[39;00m \u001b[38;5;21;01mnumpy\u001b[39;00m \u001b[38;5;28;01mas\u001b[39;00m \u001b[38;5;21;01mnp\u001b[39;00m\n",
      "File \u001b[1;32m~\\anaconda3\\lib\\site-packages\\flask\\__init__.py:4\u001b[0m\n\u001b[0;32m      1\u001b[0m \u001b[38;5;28;01mfrom\u001b[39;00m \u001b[38;5;21;01mmarkupsafe\u001b[39;00m \u001b[38;5;28;01mimport\u001b[39;00m escape\n\u001b[0;32m      2\u001b[0m \u001b[38;5;28;01mfrom\u001b[39;00m \u001b[38;5;21;01mmarkupsafe\u001b[39;00m \u001b[38;5;28;01mimport\u001b[39;00m Markup\n\u001b[1;32m----> 4\u001b[0m \u001b[38;5;28;01mfrom\u001b[39;00m \u001b[38;5;21;01m.\u001b[39;00m \u001b[38;5;28;01mimport\u001b[39;00m json \u001b[38;5;28;01mas\u001b[39;00m json\n\u001b[0;32m      5\u001b[0m \u001b[38;5;28;01mfrom\u001b[39;00m \u001b[38;5;21;01m.\u001b[39;00m\u001b[38;5;21;01mapp\u001b[39;00m \u001b[38;5;28;01mimport\u001b[39;00m Flask \u001b[38;5;28;01mas\u001b[39;00m Flask\n\u001b[0;32m      6\u001b[0m \u001b[38;5;28;01mfrom\u001b[39;00m \u001b[38;5;21;01m.\u001b[39;00m\u001b[38;5;21;01mapp\u001b[39;00m \u001b[38;5;28;01mimport\u001b[39;00m Request \u001b[38;5;28;01mas\u001b[39;00m Request\n",
      "File \u001b[1;32m~\\anaconda3\\lib\\site-packages\\flask\\json\\__init__.py:8\u001b[0m\n\u001b[0;32m      4\u001b[0m \u001b[38;5;28;01mimport\u001b[39;00m \u001b[38;5;21;01mtyping\u001b[39;00m \u001b[38;5;28;01mas\u001b[39;00m \u001b[38;5;21;01mt\u001b[39;00m\n\u001b[0;32m      6\u001b[0m \u001b[38;5;28;01mfrom\u001b[39;00m \u001b[38;5;21;01mjinja2\u001b[39;00m\u001b[38;5;21;01m.\u001b[39;00m\u001b[38;5;21;01mutils\u001b[39;00m \u001b[38;5;28;01mimport\u001b[39;00m htmlsafe_json_dumps \u001b[38;5;28;01mas\u001b[39;00m _jinja_htmlsafe_dumps\n\u001b[1;32m----> 8\u001b[0m \u001b[38;5;28;01mfrom\u001b[39;00m \u001b[38;5;21;01m.\u001b[39;00m\u001b[38;5;21;01m.\u001b[39;00m\u001b[38;5;21;01mglobals\u001b[39;00m \u001b[38;5;28;01mimport\u001b[39;00m current_app\n\u001b[0;32m      9\u001b[0m \u001b[38;5;28;01mfrom\u001b[39;00m \u001b[38;5;21;01m.\u001b[39;00m\u001b[38;5;21;01mprovider\u001b[39;00m \u001b[38;5;28;01mimport\u001b[39;00m _default\n\u001b[0;32m     11\u001b[0m \u001b[38;5;28;01mif\u001b[39;00m t\u001b[38;5;241m.\u001b[39mTYPE_CHECKING:  \u001b[38;5;66;03m# pragma: no cover\u001b[39;00m\n",
      "File \u001b[1;32m~\\anaconda3\\lib\\site-packages\\flask\\globals.py:56\u001b[0m\n\u001b[0;32m     54\u001b[0m _cv_app: ContextVar[\u001b[38;5;124m\"\u001b[39m\u001b[38;5;124mAppContext\u001b[39m\u001b[38;5;124m\"\u001b[39m] \u001b[38;5;241m=\u001b[39m ContextVar(\u001b[38;5;124m\"\u001b[39m\u001b[38;5;124mflask.app_ctx\u001b[39m\u001b[38;5;124m\"\u001b[39m)\n\u001b[0;32m     55\u001b[0m __app_ctx_stack \u001b[38;5;241m=\u001b[39m _FakeStack(\u001b[38;5;124m\"\u001b[39m\u001b[38;5;124mapp\u001b[39m\u001b[38;5;124m\"\u001b[39m, _cv_app)\n\u001b[1;32m---> 56\u001b[0m app_ctx: \u001b[38;5;124m\"\u001b[39m\u001b[38;5;124mAppContext\u001b[39m\u001b[38;5;124m\"\u001b[39m \u001b[38;5;241m=\u001b[39m \u001b[43mLocalProxy\u001b[49m\u001b[43m(\u001b[49m\u001b[43m  \u001b[49m\u001b[38;5;66;43;03m# type: ignore[assignment]\u001b[39;49;00m\n\u001b[0;32m     57\u001b[0m \u001b[43m    \u001b[49m\u001b[43m_cv_app\u001b[49m\u001b[43m,\u001b[49m\u001b[43m \u001b[49m\u001b[43munbound_message\u001b[49m\u001b[38;5;241;43m=\u001b[39;49m\u001b[43m_no_app_msg\u001b[49m\n\u001b[0;32m     58\u001b[0m \u001b[43m)\u001b[49m\n\u001b[0;32m     59\u001b[0m current_app: \u001b[38;5;124m\"\u001b[39m\u001b[38;5;124mFlask\u001b[39m\u001b[38;5;124m\"\u001b[39m \u001b[38;5;241m=\u001b[39m LocalProxy(  \u001b[38;5;66;03m# type: ignore[assignment]\u001b[39;00m\n\u001b[0;32m     60\u001b[0m     _cv_app, \u001b[38;5;124m\"\u001b[39m\u001b[38;5;124mapp\u001b[39m\u001b[38;5;124m\"\u001b[39m, unbound_message\u001b[38;5;241m=\u001b[39m_no_app_msg\n\u001b[0;32m     61\u001b[0m )\n\u001b[0;32m     62\u001b[0m g: \u001b[38;5;124m\"\u001b[39m\u001b[38;5;124m_AppCtxGlobals\u001b[39m\u001b[38;5;124m\"\u001b[39m \u001b[38;5;241m=\u001b[39m LocalProxy(  \u001b[38;5;66;03m# type: ignore[assignment]\u001b[39;00m\n\u001b[0;32m     63\u001b[0m     _cv_app, \u001b[38;5;124m\"\u001b[39m\u001b[38;5;124mg\u001b[39m\u001b[38;5;124m\"\u001b[39m, unbound_message\u001b[38;5;241m=\u001b[39m_no_app_msg\n\u001b[0;32m     64\u001b[0m )\n",
      "\u001b[1;31mTypeError\u001b[0m: LocalProxy.__init__() got an unexpected keyword argument 'unbound_message'"
     ]
    }
   ],
   "source": [
    "from flask import Flask, request, url_for, redirect, render_template\n",
    "import pickle\n",
    "import numpy as np\n",
    "\n",
    "app = Flask(__name__)\n",
    "\n",
    "# Load the trained model from the file\n",
    "with open('model.pkl', 'rb') as file:\n",
    "    model = pickle.load(file)\n",
    "\n",
    "# Define a route for the web application\n",
    "@app.route('/')\n",
    "def index():\n",
    "    return render_template('index.html')\n",
    "\n",
    "# Define a route to handle the form submission\n",
    "@app.route('/predict', methods=['POST'])\n",
    "def predict():\n",
    "    # Get the values from the form\n",
    "    age = int(request.form['age'])\n",
    "    sex = int(request.form['sex'])\n",
    "    bmi = float(request.form['bmi'])\n",
    "    children = int(request.form['children'])\n",
    "    smoker = int(request.form['smoker'])\n",
    "    region = int(request.form['region'])\n",
    "\n",
    "    # Create a numpy array with the values\n",
    "    data = np.array([[age, sex, bmi, children, smoker, region]])\n",
    "\n",
    "    # Make a prediction using the model\n",
    "    prediction = model.predict(data)\n",
    "\n",
    "    # Return the prediction to the user\n",
    "    return render_template('result.html', prediction=prediction[0])\n",
    "\n",
    "if __name__ == '__main__':\n",
    "    app.run(debug=True)"
   ]
  }
 ],
 "metadata": {
  "kernelspec": {
   "display_name": "Python 3 (ipykernel)",
   "language": "python",
   "name": "python3"
  },
  "language_info": {
   "codemirror_mode": {
    "name": "ipython",
    "version": 3
   },
   "file_extension": ".py",
   "mimetype": "text/x-python",
   "name": "python",
   "nbconvert_exporter": "python",
   "pygments_lexer": "ipython3",
   "version": "3.10.9"
  }
 },
 "nbformat": 4,
 "nbformat_minor": 5
}
